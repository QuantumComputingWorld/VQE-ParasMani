{
 "cells": [
  {
   "cell_type": "markdown",
   "id": "cddd78a3",
   "metadata": {},
   "source": [
    "Conclusion:\n",
    "\n",
    "2  .   Probably need to study about Quantum Walk Circuit\n",
    "\n",
    "1  .   requires study of the field of quantum field theory and quantum chromodynamics (QCD)\n",
    "\n",
    "0  .   H = -(1/2) * ∇^2 - 1/r\n",
    "    "
   ]
  },
  {
   "cell_type": "code",
   "execution_count": 2,
   "id": "1485cde8",
   "metadata": {},
   "outputs": [
    {
     "name": "stdout",
     "output_type": "stream",
     "text": [
      "Collecting pyscf\n",
      "  Downloading pyscf-2.1.1-cp38-cp38-manylinux_2_12_x86_64.manylinux2010_x86_64.whl (38.2 MB)\n",
      "\u001b[2K     \u001b[38;2;114;156;31m━━━━━━━━━━━━━━━━━━━━━━━━━━━━━━━━━━━━━━━━\u001b[0m \u001b[32m38.2/38.2 MB\u001b[0m \u001b[31m4.2 MB/s\u001b[0m eta \u001b[36m0:00:00\u001b[0mm eta \u001b[36m0:00:01\u001b[0m[36m0:00:01\u001b[0m\n",
      "\u001b[?25hRequirement already satisfied: numpy!=1.16,!=1.17,>=1.13 in /home/rick/Documents/IITd/labs/qcqml/lib/python3.8/site-packages (from pyscf) (1.24.1)\n",
      "Requirement already satisfied: scipy!=1.5.0,!=1.5.1 in /home/rick/Documents/IITd/labs/qcqml/lib/python3.8/site-packages (from pyscf) (1.8.1)\n",
      "Requirement already satisfied: h5py>=2.7 in /home/rick/Documents/IITd/labs/qcqml/lib/python3.8/site-packages (from pyscf) (3.2.1)\n",
      "Installing collected packages: pyscf\n",
      "Successfully installed pyscf-2.1.1\n",
      "\u001b[33mWARNING: You are using pip version 22.0.4; however, version 22.3.1 is available.\n",
      "You should consider upgrading via the '/home/rick/Documents/IITd/labs/qcqml/bin/python3.8 -m pip install --upgrade pip' command.\u001b[0m\u001b[33m\n",
      "\u001b[0m"
     ]
    }
   ],
   "source": [
    "! pip install pyscf"
   ]
  },
  {
   "cell_type": "markdown",
   "id": "047b69ee",
   "metadata": {},
   "source": [
    "# Hydrogen Molecule"
   ]
  },
  {
   "cell_type": "code",
   "execution_count": 4,
   "id": "a5092ce3",
   "metadata": {},
   "outputs": [
    {
     "name": "stdout",
     "output_type": "stream",
     "text": [
      "converged SCF energy = -1.116998996754\n"
     ]
    },
    {
     "data": {
      "text/plain": [
       "array([[0.60127022, 0.60127022],\n",
       "       [0.60127022, 0.60127022]])"
      ]
     },
     "execution_count": 4,
     "metadata": {},
     "output_type": "execute_result"
    }
   ],
   "source": [
    "from pyscf import gto, scf\n",
    "\n",
    "# Define the molecular geometry\n",
    "mol = gto.M(atom='H 0 0 0; H 0 0 0.735', basis='sto-3g')\n",
    "\n",
    "# Perform Hartree-Fock calculation\n",
    "mf = scf.RHF(mol)\n",
    "mf.scf()\n",
    "\n",
    "# Get the ground state wave function\n",
    "wfn = mf.make_rdm1()\n",
    "wfn"
   ]
  },
  {
   "cell_type": "code",
   "execution_count": 4,
   "id": "acca208a",
   "metadata": {},
   "outputs": [
    {
     "ename": "QiskitError",
     "evalue": "'Sum of amplitudes-squared does not equal one.'",
     "output_type": "error",
     "traceback": [
      "\u001b[0;31m---------------------------------------------------------------------------\u001b[0m",
      "\u001b[0;31mQiskitError\u001b[0m                               Traceback (most recent call last)",
      "Input \u001b[0;32mIn [4]\u001b[0m, in \u001b[0;36m<cell line: 8>\u001b[0;34m()\u001b[0m\n\u001b[1;32m      5\u001b[0m qc \u001b[38;5;241m=\u001b[39m QuantumCircuit(\u001b[38;5;241m2\u001b[39m)\n\u001b[1;32m      7\u001b[0m \u001b[38;5;66;03m# Prepare the initial state of the circuit\u001b[39;00m\n\u001b[0;32m----> 8\u001b[0m \u001b[43mqc\u001b[49m\u001b[38;5;241;43m.\u001b[39;49m\u001b[43minitialize\u001b[49m\u001b[43m(\u001b[49m\u001b[43mwfn\u001b[49m\u001b[38;5;241;43m.\u001b[39;49m\u001b[43mflatten\u001b[49m\u001b[43m(\u001b[49m\u001b[43m)\u001b[49m\u001b[43m,\u001b[49m\u001b[43m \u001b[49m\u001b[43m[\u001b[49m\u001b[38;5;241;43m0\u001b[39;49m\u001b[43m,\u001b[49m\u001b[43m \u001b[49m\u001b[38;5;241;43m1\u001b[39;49m\u001b[43m]\u001b[49m\u001b[43m)\u001b[49m\n\u001b[1;32m     10\u001b[0m \u001b[38;5;66;03m# Execute the circuit on a statevector simulator\u001b[39;00m\n\u001b[1;32m     11\u001b[0m backend \u001b[38;5;241m=\u001b[39m Aer\u001b[38;5;241m.\u001b[39mget_backend(\u001b[38;5;124m'\u001b[39m\u001b[38;5;124mstatevector_simulator\u001b[39m\u001b[38;5;124m'\u001b[39m)\n",
      "File \u001b[0;32m~/Documents/IITd/labs/qcqml/lib/python3.8/site-packages/qiskit/extensions/quantum_initializer/initializer.py:191\u001b[0m, in \u001b[0;36minitialize\u001b[0;34m(self, params, qubits)\u001b[0m\n\u001b[1;32m    188\u001b[0m     qubits \u001b[38;5;241m=\u001b[39m [qubits]\n\u001b[1;32m    189\u001b[0m num_qubits \u001b[38;5;241m=\u001b[39m \u001b[38;5;28mlen\u001b[39m(qubits) \u001b[38;5;28;01mif\u001b[39;00m \u001b[38;5;28misinstance\u001b[39m(params, \u001b[38;5;28mint\u001b[39m) \u001b[38;5;28;01melse\u001b[39;00m \u001b[38;5;28;01mNone\u001b[39;00m\n\u001b[0;32m--> 191\u001b[0m \u001b[38;5;28;01mreturn\u001b[39;00m \u001b[38;5;28mself\u001b[39m\u001b[38;5;241m.\u001b[39mappend(\u001b[43mInitialize\u001b[49m\u001b[43m(\u001b[49m\u001b[43mparams\u001b[49m\u001b[43m,\u001b[49m\u001b[43m \u001b[49m\u001b[43mnum_qubits\u001b[49m\u001b[43m)\u001b[49m, qubits)\n",
      "File \u001b[0;32m~/Documents/IITd/labs/qcqml/lib/python3.8/site-packages/qiskit/extensions/quantum_initializer/initializer.py:57\u001b[0m, in \u001b[0;36mInitialize.__init__\u001b[0;34m(self, params, num_qubits)\u001b[0m\n\u001b[1;32m     36\u001b[0m \u001b[38;5;28;01mdef\u001b[39;00m \u001b[38;5;21m__init__\u001b[39m(\u001b[38;5;28mself\u001b[39m, params, num_qubits\u001b[38;5;241m=\u001b[39m\u001b[38;5;28;01mNone\u001b[39;00m):\n\u001b[1;32m     37\u001b[0m     \u001b[38;5;124mr\u001b[39m\u001b[38;5;124;03m\"\"\"Create new initialize composite.\u001b[39;00m\n\u001b[1;32m     38\u001b[0m \n\u001b[1;32m     39\u001b[0m \u001b[38;5;124;03m    Args:\u001b[39;00m\n\u001b[0;32m   (...)\u001b[0m\n\u001b[1;32m     55\u001b[0m \u001b[38;5;124;03m            and the remaining 3 qubits to be initialized to :math:`|0\\rangle`.\u001b[39;00m\n\u001b[1;32m     56\u001b[0m \u001b[38;5;124;03m    \"\"\"\u001b[39;00m\n\u001b[0;32m---> 57\u001b[0m     \u001b[38;5;28mself\u001b[39m\u001b[38;5;241m.\u001b[39m_stateprep \u001b[38;5;241m=\u001b[39m \u001b[43mStatePreparation\u001b[49m\u001b[43m(\u001b[49m\u001b[43mparams\u001b[49m\u001b[43m,\u001b[49m\u001b[43m \u001b[49m\u001b[43mnum_qubits\u001b[49m\u001b[43m)\u001b[49m\n\u001b[1;32m     59\u001b[0m     \u001b[38;5;28msuper\u001b[39m()\u001b[38;5;241m.\u001b[39m\u001b[38;5;21m__init__\u001b[39m(\u001b[38;5;124m\"\u001b[39m\u001b[38;5;124minitialize\u001b[39m\u001b[38;5;124m\"\u001b[39m, \u001b[38;5;28mself\u001b[39m\u001b[38;5;241m.\u001b[39m_stateprep\u001b[38;5;241m.\u001b[39mnum_qubits, \u001b[38;5;241m0\u001b[39m, \u001b[38;5;28mself\u001b[39m\u001b[38;5;241m.\u001b[39m_stateprep\u001b[38;5;241m.\u001b[39mparams)\n",
      "File \u001b[0;32m~/Documents/IITd/labs/qcqml/lib/python3.8/site-packages/qiskit/circuit/library/data_preparation/state_preparation.py:99\u001b[0m, in \u001b[0;36mStatePreparation.__init__\u001b[0;34m(self, params, num_qubits, inverse, label)\u001b[0m\n\u001b[1;32m     96\u001b[0m \u001b[38;5;28mself\u001b[39m\u001b[38;5;241m.\u001b[39m_from_label \u001b[38;5;241m=\u001b[39m \u001b[38;5;28misinstance\u001b[39m(params, \u001b[38;5;28mstr\u001b[39m)\n\u001b[1;32m     97\u001b[0m \u001b[38;5;28mself\u001b[39m\u001b[38;5;241m.\u001b[39m_from_int \u001b[38;5;241m=\u001b[39m \u001b[38;5;28misinstance\u001b[39m(params, \u001b[38;5;28mint\u001b[39m)\n\u001b[0;32m---> 99\u001b[0m num_qubits \u001b[38;5;241m=\u001b[39m \u001b[38;5;28;43mself\u001b[39;49m\u001b[38;5;241;43m.\u001b[39;49m\u001b[43m_get_num_qubits\u001b[49m\u001b[43m(\u001b[49m\u001b[43mnum_qubits\u001b[49m\u001b[43m,\u001b[49m\u001b[43m \u001b[49m\u001b[43mparams\u001b[49m\u001b[43m)\u001b[49m\n\u001b[1;32m    101\u001b[0m params \u001b[38;5;241m=\u001b[39m [params] \u001b[38;5;28;01mif\u001b[39;00m \u001b[38;5;28misinstance\u001b[39m(params, \u001b[38;5;28mint\u001b[39m) \u001b[38;5;28;01melse\u001b[39;00m params\n\u001b[1;32m    103\u001b[0m \u001b[38;5;28msuper\u001b[39m()\u001b[38;5;241m.\u001b[39m\u001b[38;5;21m__init__\u001b[39m(\u001b[38;5;28mself\u001b[39m\u001b[38;5;241m.\u001b[39m_name, num_qubits, params, label\u001b[38;5;241m=\u001b[39m\u001b[38;5;28mself\u001b[39m\u001b[38;5;241m.\u001b[39m_label)\n",
      "File \u001b[0;32m~/Documents/IITd/labs/qcqml/lib/python3.8/site-packages/qiskit/circuit/library/data_preparation/state_preparation.py:202\u001b[0m, in \u001b[0;36mStatePreparation._get_num_qubits\u001b[0;34m(self, num_qubits, params)\u001b[0m\n\u001b[1;32m    200\u001b[0m     \u001b[38;5;66;03m# Check if probabilities (amplitudes squared) sum to 1\u001b[39;00m\n\u001b[1;32m    201\u001b[0m     \u001b[38;5;28;01mif\u001b[39;00m \u001b[38;5;129;01mnot\u001b[39;00m math\u001b[38;5;241m.\u001b[39misclose(\u001b[38;5;28msum\u001b[39m(np\u001b[38;5;241m.\u001b[39mabsolute(params) \u001b[38;5;241m*\u001b[39m\u001b[38;5;241m*\u001b[39m \u001b[38;5;241m2\u001b[39m), \u001b[38;5;241m1.0\u001b[39m, abs_tol\u001b[38;5;241m=\u001b[39m_EPS):\n\u001b[0;32m--> 202\u001b[0m         \u001b[38;5;28;01mraise\u001b[39;00m QiskitError(\u001b[38;5;124m\"\u001b[39m\u001b[38;5;124mSum of amplitudes-squared does not equal one.\u001b[39m\u001b[38;5;124m\"\u001b[39m)\n\u001b[1;32m    204\u001b[0m     num_qubits \u001b[38;5;241m=\u001b[39m \u001b[38;5;28mint\u001b[39m(num_qubits)\n\u001b[1;32m    205\u001b[0m \u001b[38;5;28;01mreturn\u001b[39;00m num_qubits\n",
      "\u001b[0;31mQiskitError\u001b[0m: 'Sum of amplitudes-squared does not equal one.'"
     ]
    }
   ],
   "source": [
    "from qiskit import QuantumCircuit, execute, Aer\n",
    "import numpy as np\n",
    "\n",
    "# Create a quantum circuit with two qubits\n",
    "qc = QuantumCircuit(2)\n",
    "\n",
    "# Prepare the initial state of the circuit\n",
    "qc.initialize(wfn.flatten(), [0, 1])\n",
    "\n",
    "# Execute the circuit on a statevector simulator\n",
    "backend = Aer.get_backend('statevector_simulator')\n",
    "job = execute(qc, backend)\n",
    "result = job.result()\n",
    "\n",
    "# Get the final statevector\n",
    "statevector = result.get_statevector()\n",
    "print(statevector)"
   ]
  },
  {
   "cell_type": "markdown",
   "id": "04a005ff",
   "metadata": {},
   "source": [
    "# Hydrogen Ion"
   ]
  },
  {
   "cell_type": "code",
   "execution_count": 2,
   "id": "05ebc56b",
   "metadata": {},
   "outputs": [
    {
     "ename": "RuntimeError",
     "evalue": "Electron number 1 and spin 0 are not consistent\nNote mol.spin = 2S = Nalpha - Nbeta, not 2S+1",
     "output_type": "error",
     "traceback": [
      "\u001b[0;31m---------------------------------------------------------------------------\u001b[0m",
      "\u001b[0;31mRuntimeError\u001b[0m                              Traceback (most recent call last)",
      "Input \u001b[0;32mIn [2]\u001b[0m, in \u001b[0;36m<cell line: 4>\u001b[0;34m()\u001b[0m\n\u001b[1;32m      1\u001b[0m \u001b[38;5;28;01mfrom\u001b[39;00m \u001b[38;5;21;01mpyscf\u001b[39;00m \u001b[38;5;28;01mimport\u001b[39;00m gto, scf\n\u001b[1;32m      3\u001b[0m \u001b[38;5;66;03m# Define the molecular geometry\u001b[39;00m\n\u001b[0;32m----> 4\u001b[0m mol \u001b[38;5;241m=\u001b[39m \u001b[43mgto\u001b[49m\u001b[38;5;241;43m.\u001b[39;49m\u001b[43mM\u001b[49m\u001b[43m(\u001b[49m\u001b[43matom\u001b[49m\u001b[38;5;241;43m=\u001b[39;49m\u001b[38;5;124;43m'\u001b[39;49m\u001b[38;5;124;43mH 0 0 0\u001b[39;49m\u001b[38;5;124;43m'\u001b[39;49m\u001b[43m,\u001b[49m\u001b[43m \u001b[49m\u001b[43mbasis\u001b[49m\u001b[38;5;241;43m=\u001b[39;49m\u001b[38;5;124;43m'\u001b[39;49m\u001b[38;5;124;43msto-3g\u001b[39;49m\u001b[38;5;124;43m'\u001b[39;49m\u001b[43m)\u001b[49m\n\u001b[1;32m      6\u001b[0m \u001b[38;5;66;03m# Perform Hartree-Fock calculation\u001b[39;00m\n\u001b[1;32m      7\u001b[0m mf \u001b[38;5;241m=\u001b[39m scf\u001b[38;5;241m.\u001b[39mRHF(mol)\n",
      "File \u001b[0;32m~/Documents/IITd/labs/qcqml/lib/python3.8/site-packages/pyscf/gto/mole.py:118\u001b[0m, in \u001b[0;36mM\u001b[0;34m(**kwargs)\u001b[0m\n\u001b[1;32m    108\u001b[0m \u001b[38;5;124mr\u001b[39m\u001b[38;5;124;03m'''This is a shortcut to build up Mole object.\u001b[39;00m\n\u001b[1;32m    109\u001b[0m \n\u001b[1;32m    110\u001b[0m \u001b[38;5;124;03mArgs: Same to :func:`Mole.build`\u001b[39;00m\n\u001b[0;32m   (...)\u001b[0m\n\u001b[1;32m    115\u001b[0m \u001b[38;5;124;03m>>> mol = gto.M(atom='H 0 0 0; F 0 0 1', basis='6-31g')\u001b[39;00m\n\u001b[1;32m    116\u001b[0m \u001b[38;5;124;03m'''\u001b[39;00m\n\u001b[1;32m    117\u001b[0m mol \u001b[38;5;241m=\u001b[39m Mole()\n\u001b[0;32m--> 118\u001b[0m \u001b[43mmol\u001b[49m\u001b[38;5;241;43m.\u001b[39;49m\u001b[43mbuild\u001b[49m\u001b[43m(\u001b[49m\u001b[38;5;241;43m*\u001b[39;49m\u001b[38;5;241;43m*\u001b[39;49m\u001b[43mkwargs\u001b[49m\u001b[43m)\u001b[49m\n\u001b[1;32m    119\u001b[0m \u001b[38;5;28;01mreturn\u001b[39;00m mol\n",
      "File \u001b[0;32m~/Documents/IITd/labs/qcqml/lib/python3.8/site-packages/pyscf/gto/mole.py:2535\u001b[0m, in \u001b[0;36mMole.build\u001b[0;34m(self, dump_input, parse_arg, verbose, output, max_memory, atom, basis, unit, nucmod, ecp, charge, spin, symmetry, symmetry_subgroup, cart, magmom)\u001b[0m\n\u001b[1;32m   2531\u001b[0m     \u001b[38;5;28mself\u001b[39m\u001b[38;5;241m.\u001b[39mspin \u001b[38;5;241m=\u001b[39m \u001b[38;5;28mself\u001b[39m\u001b[38;5;241m.\u001b[39mnelectron \u001b[38;5;241m%\u001b[39m \u001b[38;5;241m2\u001b[39m\n\u001b[1;32m   2532\u001b[0m \u001b[38;5;28;01melse\u001b[39;00m:\n\u001b[1;32m   2533\u001b[0m     \u001b[38;5;66;03m# Access self.nelec in which the code checks whether the spin and\u001b[39;00m\n\u001b[1;32m   2534\u001b[0m     \u001b[38;5;66;03m# number of electrons are consistent.\u001b[39;00m\n\u001b[0;32m-> 2535\u001b[0m     \u001b[38;5;28;43mself\u001b[39;49m\u001b[38;5;241;43m.\u001b[39;49m\u001b[43mnelec\u001b[49m\n\u001b[1;32m   2537\u001b[0m \u001b[38;5;28;01mif\u001b[39;00m \u001b[38;5;129;01mnot\u001b[39;00m \u001b[38;5;28mself\u001b[39m\u001b[38;5;241m.\u001b[39mmagmom:\n\u001b[1;32m   2538\u001b[0m     \u001b[38;5;28mself\u001b[39m\u001b[38;5;241m.\u001b[39mmagmom \u001b[38;5;241m=\u001b[39m [\u001b[38;5;241m0.\u001b[39m,]\u001b[38;5;241m*\u001b[39m\u001b[38;5;28mself\u001b[39m\u001b[38;5;241m.\u001b[39mnatm\n",
      "File \u001b[0;32m~/Documents/IITd/labs/qcqml/lib/python3.8/site-packages/pyscf/gto/mole.py:2287\u001b[0m, in \u001b[0;36mMole.nelec\u001b[0;34m(self)\u001b[0m\n\u001b[1;32m   2285\u001b[0m \u001b[38;5;28;01massert\u001b[39;00m (nalpha \u001b[38;5;241m>\u001b[39m\u001b[38;5;241m=\u001b[39m \u001b[38;5;241m0\u001b[39m \u001b[38;5;129;01mand\u001b[39;00m nbeta \u001b[38;5;241m>\u001b[39m\u001b[38;5;241m=\u001b[39m \u001b[38;5;241m0\u001b[39m)\n\u001b[1;32m   2286\u001b[0m \u001b[38;5;28;01mif\u001b[39;00m nalpha \u001b[38;5;241m+\u001b[39m nbeta \u001b[38;5;241m!=\u001b[39m ne:\n\u001b[0;32m-> 2287\u001b[0m     \u001b[38;5;28;01mraise\u001b[39;00m \u001b[38;5;167;01mRuntimeError\u001b[39;00m(\u001b[38;5;124m'\u001b[39m\u001b[38;5;124mElectron number \u001b[39m\u001b[38;5;132;01m%d\u001b[39;00m\u001b[38;5;124m and spin \u001b[39m\u001b[38;5;132;01m%d\u001b[39;00m\u001b[38;5;124m are not consistent\u001b[39m\u001b[38;5;130;01m\\n\u001b[39;00m\u001b[38;5;124m'\u001b[39m\n\u001b[1;32m   2288\u001b[0m                        \u001b[38;5;124m'\u001b[39m\u001b[38;5;124mNote mol.spin = 2S = Nalpha - Nbeta, not 2S+1\u001b[39m\u001b[38;5;124m'\u001b[39m \u001b[38;5;241m%\u001b[39m\n\u001b[1;32m   2289\u001b[0m                        (ne, \u001b[38;5;28mself\u001b[39m\u001b[38;5;241m.\u001b[39mspin))\n\u001b[1;32m   2290\u001b[0m \u001b[38;5;28;01mreturn\u001b[39;00m nalpha, nbeta\n",
      "\u001b[0;31mRuntimeError\u001b[0m: Electron number 1 and spin 0 are not consistent\nNote mol.spin = 2S = Nalpha - Nbeta, not 2S+1"
     ]
    }
   ],
   "source": [
    "from pyscf import gto, scf\n",
    "\n",
    "# Define the molecular geometry\n",
    "mol = gto.M(atom='H 0 0 0', basis='sto-3g')\n",
    "\n",
    "# Perform Hartree-Fock calculation\n",
    "mf = scf.RHF(mol)\n",
    "mf.scf()\n",
    "\n",
    "# Get the ground state wave function\n",
    "wfn = mf.make_rdm1()"
   ]
  },
  {
   "cell_type": "code",
   "execution_count": 7,
   "id": "5ca2d297",
   "metadata": {},
   "outputs": [
    {
     "ename": "QiskitError",
     "evalue": "'Sum of amplitudes-squared does not equal one.'",
     "output_type": "error",
     "traceback": [
      "\u001b[0;31m---------------------------------------------------------------------------\u001b[0m",
      "\u001b[0;31mQiskitError\u001b[0m                               Traceback (most recent call last)",
      "Input \u001b[0;32mIn [7]\u001b[0m, in \u001b[0;36m<cell line: 8>\u001b[0;34m()\u001b[0m\n\u001b[1;32m      5\u001b[0m qc \u001b[38;5;241m=\u001b[39m QuantumCircuit(\u001b[38;5;241m1\u001b[39m)\n\u001b[1;32m      7\u001b[0m \u001b[38;5;66;03m# Prepare the initial state of the circuit\u001b[39;00m\n\u001b[0;32m----> 8\u001b[0m \u001b[43mqc\u001b[49m\u001b[38;5;241;43m.\u001b[39;49m\u001b[43minitialize\u001b[49m\u001b[43m(\u001b[49m\u001b[43mwfn\u001b[49m\u001b[38;5;241;43m.\u001b[39;49m\u001b[43mflatten\u001b[49m\u001b[43m(\u001b[49m\u001b[43m)\u001b[49m\u001b[43m,\u001b[49m\u001b[43m \u001b[49m\u001b[43m[\u001b[49m\u001b[38;5;241;43m0\u001b[39;49m\u001b[43m]\u001b[49m\u001b[43m)\u001b[49m\n\u001b[1;32m     10\u001b[0m \u001b[38;5;66;03m# Execute the circuit on a statevector simulator\u001b[39;00m\n\u001b[1;32m     11\u001b[0m backend \u001b[38;5;241m=\u001b[39m Aer\u001b[38;5;241m.\u001b[39mget_backend(\u001b[38;5;124m'\u001b[39m\u001b[38;5;124mstatevector_simulator\u001b[39m\u001b[38;5;124m'\u001b[39m)\n",
      "File \u001b[0;32m~/Documents/IITd/labs/qcqml/lib/python3.8/site-packages/qiskit/extensions/quantum_initializer/initializer.py:191\u001b[0m, in \u001b[0;36minitialize\u001b[0;34m(self, params, qubits)\u001b[0m\n\u001b[1;32m    188\u001b[0m     qubits \u001b[38;5;241m=\u001b[39m [qubits]\n\u001b[1;32m    189\u001b[0m num_qubits \u001b[38;5;241m=\u001b[39m \u001b[38;5;28mlen\u001b[39m(qubits) \u001b[38;5;28;01mif\u001b[39;00m \u001b[38;5;28misinstance\u001b[39m(params, \u001b[38;5;28mint\u001b[39m) \u001b[38;5;28;01melse\u001b[39;00m \u001b[38;5;28;01mNone\u001b[39;00m\n\u001b[0;32m--> 191\u001b[0m \u001b[38;5;28;01mreturn\u001b[39;00m \u001b[38;5;28mself\u001b[39m\u001b[38;5;241m.\u001b[39mappend(\u001b[43mInitialize\u001b[49m\u001b[43m(\u001b[49m\u001b[43mparams\u001b[49m\u001b[43m,\u001b[49m\u001b[43m \u001b[49m\u001b[43mnum_qubits\u001b[49m\u001b[43m)\u001b[49m, qubits)\n",
      "File \u001b[0;32m~/Documents/IITd/labs/qcqml/lib/python3.8/site-packages/qiskit/extensions/quantum_initializer/initializer.py:57\u001b[0m, in \u001b[0;36mInitialize.__init__\u001b[0;34m(self, params, num_qubits)\u001b[0m\n\u001b[1;32m     36\u001b[0m \u001b[38;5;28;01mdef\u001b[39;00m \u001b[38;5;21m__init__\u001b[39m(\u001b[38;5;28mself\u001b[39m, params, num_qubits\u001b[38;5;241m=\u001b[39m\u001b[38;5;28;01mNone\u001b[39;00m):\n\u001b[1;32m     37\u001b[0m     \u001b[38;5;124mr\u001b[39m\u001b[38;5;124;03m\"\"\"Create new initialize composite.\u001b[39;00m\n\u001b[1;32m     38\u001b[0m \n\u001b[1;32m     39\u001b[0m \u001b[38;5;124;03m    Args:\u001b[39;00m\n\u001b[0;32m   (...)\u001b[0m\n\u001b[1;32m     55\u001b[0m \u001b[38;5;124;03m            and the remaining 3 qubits to be initialized to :math:`|0\\rangle`.\u001b[39;00m\n\u001b[1;32m     56\u001b[0m \u001b[38;5;124;03m    \"\"\"\u001b[39;00m\n\u001b[0;32m---> 57\u001b[0m     \u001b[38;5;28mself\u001b[39m\u001b[38;5;241m.\u001b[39m_stateprep \u001b[38;5;241m=\u001b[39m \u001b[43mStatePreparation\u001b[49m\u001b[43m(\u001b[49m\u001b[43mparams\u001b[49m\u001b[43m,\u001b[49m\u001b[43m \u001b[49m\u001b[43mnum_qubits\u001b[49m\u001b[43m)\u001b[49m\n\u001b[1;32m     59\u001b[0m     \u001b[38;5;28msuper\u001b[39m()\u001b[38;5;241m.\u001b[39m\u001b[38;5;21m__init__\u001b[39m(\u001b[38;5;124m\"\u001b[39m\u001b[38;5;124minitialize\u001b[39m\u001b[38;5;124m\"\u001b[39m, \u001b[38;5;28mself\u001b[39m\u001b[38;5;241m.\u001b[39m_stateprep\u001b[38;5;241m.\u001b[39mnum_qubits, \u001b[38;5;241m0\u001b[39m, \u001b[38;5;28mself\u001b[39m\u001b[38;5;241m.\u001b[39m_stateprep\u001b[38;5;241m.\u001b[39mparams)\n",
      "File \u001b[0;32m~/Documents/IITd/labs/qcqml/lib/python3.8/site-packages/qiskit/circuit/library/data_preparation/state_preparation.py:99\u001b[0m, in \u001b[0;36mStatePreparation.__init__\u001b[0;34m(self, params, num_qubits, inverse, label)\u001b[0m\n\u001b[1;32m     96\u001b[0m \u001b[38;5;28mself\u001b[39m\u001b[38;5;241m.\u001b[39m_from_label \u001b[38;5;241m=\u001b[39m \u001b[38;5;28misinstance\u001b[39m(params, \u001b[38;5;28mstr\u001b[39m)\n\u001b[1;32m     97\u001b[0m \u001b[38;5;28mself\u001b[39m\u001b[38;5;241m.\u001b[39m_from_int \u001b[38;5;241m=\u001b[39m \u001b[38;5;28misinstance\u001b[39m(params, \u001b[38;5;28mint\u001b[39m)\n\u001b[0;32m---> 99\u001b[0m num_qubits \u001b[38;5;241m=\u001b[39m \u001b[38;5;28;43mself\u001b[39;49m\u001b[38;5;241;43m.\u001b[39;49m\u001b[43m_get_num_qubits\u001b[49m\u001b[43m(\u001b[49m\u001b[43mnum_qubits\u001b[49m\u001b[43m,\u001b[49m\u001b[43m \u001b[49m\u001b[43mparams\u001b[49m\u001b[43m)\u001b[49m\n\u001b[1;32m    101\u001b[0m params \u001b[38;5;241m=\u001b[39m [params] \u001b[38;5;28;01mif\u001b[39;00m \u001b[38;5;28misinstance\u001b[39m(params, \u001b[38;5;28mint\u001b[39m) \u001b[38;5;28;01melse\u001b[39;00m params\n\u001b[1;32m    103\u001b[0m \u001b[38;5;28msuper\u001b[39m()\u001b[38;5;241m.\u001b[39m\u001b[38;5;21m__init__\u001b[39m(\u001b[38;5;28mself\u001b[39m\u001b[38;5;241m.\u001b[39m_name, num_qubits, params, label\u001b[38;5;241m=\u001b[39m\u001b[38;5;28mself\u001b[39m\u001b[38;5;241m.\u001b[39m_label)\n",
      "File \u001b[0;32m~/Documents/IITd/labs/qcqml/lib/python3.8/site-packages/qiskit/circuit/library/data_preparation/state_preparation.py:202\u001b[0m, in \u001b[0;36mStatePreparation._get_num_qubits\u001b[0;34m(self, num_qubits, params)\u001b[0m\n\u001b[1;32m    200\u001b[0m     \u001b[38;5;66;03m# Check if probabilities (amplitudes squared) sum to 1\u001b[39;00m\n\u001b[1;32m    201\u001b[0m     \u001b[38;5;28;01mif\u001b[39;00m \u001b[38;5;129;01mnot\u001b[39;00m math\u001b[38;5;241m.\u001b[39misclose(\u001b[38;5;28msum\u001b[39m(np\u001b[38;5;241m.\u001b[39mabsolute(params) \u001b[38;5;241m*\u001b[39m\u001b[38;5;241m*\u001b[39m \u001b[38;5;241m2\u001b[39m), \u001b[38;5;241m1.0\u001b[39m, abs_tol\u001b[38;5;241m=\u001b[39m_EPS):\n\u001b[0;32m--> 202\u001b[0m         \u001b[38;5;28;01mraise\u001b[39;00m QiskitError(\u001b[38;5;124m\"\u001b[39m\u001b[38;5;124mSum of amplitudes-squared does not equal one.\u001b[39m\u001b[38;5;124m\"\u001b[39m)\n\u001b[1;32m    204\u001b[0m     num_qubits \u001b[38;5;241m=\u001b[39m \u001b[38;5;28mint\u001b[39m(num_qubits)\n\u001b[1;32m    205\u001b[0m \u001b[38;5;28;01mreturn\u001b[39;00m num_qubits\n",
      "\u001b[0;31mQiskitError\u001b[0m: 'Sum of amplitudes-squared does not equal one.'"
     ]
    }
   ],
   "source": [
    "from qiskit import QuantumCircuit, execute, Aer\n",
    "import numpy as np\n",
    "\n",
    "# Create a quantum circuit with one qubit\n",
    "qc = QuantumCircuit(1)\n",
    "\n",
    "# Prepare the initial state of the circuit\n",
    "qc.initialize(wfn.flatten(), [0])\n",
    "\n",
    "# Execute the circuit on a statevector simulator\n",
    "backend = Aer.get_backend('statevector_simulator')\n",
    "job = execute(qc, backend)\n",
    "result = job.result()\n",
    "\n",
    "# Get the final statevector\n",
    "statevector = result.get_statevector()\n",
    "print(statevector)"
   ]
  },
  {
   "cell_type": "code",
   "execution_count": 1,
   "id": "554b4987",
   "metadata": {},
   "outputs": [
    {
     "name": "stdout",
     "output_type": "stream",
     "text": [
      "Statevector([0.70710678+0.j, 0.70710678+0.j],\n",
      "            dims=(2,))\n"
     ]
    }
   ],
   "source": [
    "from qiskit import QuantumCircuit, execute, Aer\n",
    "import numpy as np\n",
    "\n",
    "# Define the wavefunction for the ground state of a hydrogen atom\n",
    "wfn = np.array([1 / np.sqrt(2), 1 / np.sqrt(2)])\n",
    "\n",
    "# Create a quantum circuit with one qubit\n",
    "qc = QuantumCircuit(1)\n",
    "\n",
    "# Prepare the initial state of the circuit\n",
    "qc.initialize(wfn.flatten(), [0])\n",
    "\n",
    "# Execute the circuit on a statevector simulator\n",
    "backend = Aer.get_backend('statevector_simulator')\n",
    "job = execute(qc, backend)\n",
    "result = job.result()\n",
    "\n",
    "# Get the final statevector\n",
    "statevector = result.get_statevector()\n",
    "print(statevector)\n"
   ]
  },
  {
   "cell_type": "code",
   "execution_count": 11,
   "id": "83895c8d",
   "metadata": {},
   "outputs": [
    {
     "name": "stdout",
     "output_type": "stream",
     "text": [
      "Collecting qiskit-nature\n",
      "  Downloading qiskit_nature-0.5.2-py3-none-any.whl (3.8 MB)\n",
      "\u001b[2K     \u001b[38;2;114;156;31m━━━━━━━━━━━━━━━━━━━━━━━━━━━━━━━━━━━━━━━━\u001b[0m \u001b[32m3.8/3.8 MB\u001b[0m \u001b[31m771.0 kB/s\u001b[0m eta \u001b[36m0:00:00\u001b[0mm eta \u001b[36m0:00:01\u001b[0m0:01\u001b[0m:01\u001b[0m\n",
      "\u001b[?25hRequirement already satisfied: psutil>=5 in /home/rick/Documents/IITd/labs/qcqml/lib/python3.8/site-packages (from qiskit-nature) (5.9.1)\n",
      "Requirement already satisfied: qiskit-terra>=0.22.* in /home/rick/Documents/IITd/labs/qcqml/lib/python3.8/site-packages (from qiskit-nature) (0.22.4)\n",
      "Requirement already satisfied: numpy>=1.17 in /home/rick/Documents/IITd/labs/qcqml/lib/python3.8/site-packages (from qiskit-nature) (1.24.1)\n",
      "Requirement already satisfied: scikit-learn>=0.20.0 in /home/rick/Documents/IITd/labs/qcqml/lib/python3.8/site-packages (from qiskit-nature) (1.2.0)\n",
      "Requirement already satisfied: h5py in /home/rick/Documents/IITd/labs/qcqml/lib/python3.8/site-packages (from qiskit-nature) (3.2.1)\n",
      "Collecting rustworkx\n",
      "  Downloading rustworkx-0.12.1-cp38-cp38-manylinux_2_17_x86_64.manylinux2014_x86_64.whl (1.9 MB)\n",
      "\u001b[2K     \u001b[38;2;114;156;31m━━━━━━━━━━━━━━━━━━━━━━━━━━━━━━━━━━━━━━━━\u001b[0m \u001b[32m1.9/1.9 MB\u001b[0m \u001b[31m1.3 MB/s\u001b[0m eta \u001b[36m0:00:00\u001b[0mm eta \u001b[36m0:00:01\u001b[0m[36m0:00:01\u001b[0m0m\n",
      "\u001b[?25hRequirement already satisfied: scipy>=1.4 in /home/rick/Documents/IITd/labs/qcqml/lib/python3.8/site-packages (from qiskit-nature) (1.8.1)\n",
      "Requirement already satisfied: setuptools>=40.1.0 in /home/rick/Documents/IITd/labs/qcqml/lib/python3.8/site-packages (from qiskit-nature) (56.0.0)\n",
      "Requirement already satisfied: typing-extensions in /home/rick/Documents/IITd/labs/qcqml/lib/python3.8/site-packages (from qiskit-nature) (4.3.0)\n",
      "Requirement already satisfied: dill>=0.3 in /home/rick/Documents/IITd/labs/qcqml/lib/python3.8/site-packages (from qiskit-terra>=0.22.*->qiskit-nature) (0.3.5.1)\n",
      "Requirement already satisfied: tweedledum<2.0,>=1.1 in /home/rick/Documents/IITd/labs/qcqml/lib/python3.8/site-packages (from qiskit-terra>=0.22.*->qiskit-nature) (1.1.1)\n",
      "Requirement already satisfied: stevedore>=3.0.0 in /home/rick/Documents/IITd/labs/qcqml/lib/python3.8/site-packages (from qiskit-terra>=0.22.*->qiskit-nature) (4.0.0)\n",
      "Requirement already satisfied: retworkx>=0.11.0 in /home/rick/Documents/IITd/labs/qcqml/lib/python3.8/site-packages (from qiskit-terra>=0.22.*->qiskit-nature) (0.11.0)\n",
      "Requirement already satisfied: sympy>=1.3 in /home/rick/Documents/IITd/labs/qcqml/lib/python3.8/site-packages (from qiskit-terra>=0.22.*->qiskit-nature) (1.10.1)\n",
      "Requirement already satisfied: symengine>=0.9 in /home/rick/Documents/IITd/labs/qcqml/lib/python3.8/site-packages (from qiskit-terra>=0.22.*->qiskit-nature) (0.9.2)\n",
      "Requirement already satisfied: ply>=3.10 in /home/rick/Documents/IITd/labs/qcqml/lib/python3.8/site-packages (from qiskit-terra>=0.22.*->qiskit-nature) (3.11)\n",
      "Requirement already satisfied: python-dateutil>=2.8.0 in /home/rick/Documents/IITd/labs/qcqml/lib/python3.8/site-packages (from qiskit-terra>=0.22.*->qiskit-nature) (2.8.2)\n",
      "Requirement already satisfied: threadpoolctl>=2.0.0 in /home/rick/Documents/IITd/labs/qcqml/lib/python3.8/site-packages (from scikit-learn>=0.20.0->qiskit-nature) (3.1.0)\n",
      "Requirement already satisfied: joblib>=1.1.1 in /home/rick/Documents/IITd/labs/qcqml/lib/python3.8/site-packages (from scikit-learn>=0.20.0->qiskit-nature) (1.2.0)\n",
      "Requirement already satisfied: six>=1.5 in /home/rick/Documents/IITd/labs/qcqml/lib/python3.8/site-packages (from python-dateutil>=2.8.0->qiskit-terra>=0.22.*->qiskit-nature) (1.16.0)\n",
      "Requirement already satisfied: pbr!=2.1.0,>=2.0.0 in /home/rick/Documents/IITd/labs/qcqml/lib/python3.8/site-packages (from stevedore>=3.0.0->qiskit-terra>=0.22.*->qiskit-nature) (5.9.0)\n",
      "Requirement already satisfied: mpmath>=0.19 in /home/rick/Documents/IITd/labs/qcqml/lib/python3.8/site-packages (from sympy>=1.3->qiskit-terra>=0.22.*->qiskit-nature) (1.2.1)\n",
      "Installing collected packages: rustworkx, qiskit-nature\n",
      "Successfully installed qiskit-nature-0.5.2 rustworkx-0.12.1\n",
      "\u001b[33mWARNING: You are using pip version 22.0.4; however, version 23.0.1 is available.\n",
      "You should consider upgrading via the '/home/rick/Documents/IITd/labs/qcqml/bin/python3.8 -m pip install --upgrade pip' command.\u001b[0m\u001b[33m\n",
      "\u001b[0m"
     ]
    }
   ],
   "source": [
    "! pip install qiskit-nature"
   ]
  },
  {
   "cell_type": "code",
   "execution_count": 12,
   "id": "526f7d51",
   "metadata": {},
   "outputs": [
    {
     "name": "stdout",
     "output_type": "stream",
     "text": [
      "Requirement already satisfied: pip in /home/rick/Documents/IITd/labs/qcqml/lib/python3.8/site-packages (22.0.4)\n",
      "Collecting pip\n",
      "  Using cached pip-23.0.1-py3-none-any.whl (2.1 MB)\n",
      "Installing collected packages: pip\n",
      "  Attempting uninstall: pip\n",
      "    Found existing installation: pip 22.0.4\n",
      "    Uninstalling pip-22.0.4:\n",
      "      Successfully uninstalled pip-22.0.4\n",
      "Successfully installed pip-23.0.1\n"
     ]
    }
   ],
   "source": [
    "! python3.8 -m pip install --upgrade pip"
   ]
  },
  {
   "cell_type": "code",
   "execution_count": 15,
   "id": "9d02d35d",
   "metadata": {},
   "outputs": [
    {
     "ename": "ImportError",
     "evalue": "cannot import name 'Hamiltonian' from 'qiskit_nature.second_q.drivers' (/home/rick/Documents/IITd/labs/qcqml/lib/python3.8/site-packages/qiskit_nature/second_q/drivers/__init__.py)",
     "output_type": "error",
     "traceback": [
      "\u001b[0;31m---------------------------------------------------------------------------\u001b[0m",
      "\u001b[0;31mImportError\u001b[0m                               Traceback (most recent call last)",
      "Input \u001b[0;32mIn [15]\u001b[0m, in \u001b[0;36m<cell line: 4>\u001b[0;34m()\u001b[0m\n\u001b[1;32m      2\u001b[0m \u001b[38;5;28;01mfrom\u001b[39;00m \u001b[38;5;21;01mqiskit\u001b[39;00m \u001b[38;5;28;01mimport\u001b[39;00m Aer, execute, QuantumCircuit \n\u001b[1;32m      3\u001b[0m \u001b[38;5;28;01mfrom\u001b[39;00m \u001b[38;5;21;01mqiskit\u001b[39;00m\u001b[38;5;21;01m.\u001b[39;00m\u001b[38;5;21;01mopflow\u001b[39;00m \u001b[38;5;28;01mimport\u001b[39;00m Z2Symmetries \n\u001b[0;32m----> 4\u001b[0m \u001b[38;5;28;01mfrom\u001b[39;00m \u001b[38;5;21;01mqiskit_nature\u001b[39;00m\u001b[38;5;21;01m.\u001b[39;00m\u001b[38;5;21;01msecond_q\u001b[39;00m\u001b[38;5;21;01m.\u001b[39;00m\u001b[38;5;21;01mdrivers\u001b[39;00m \u001b[38;5;28;01mimport\u001b[39;00m PySCFDriver, Hamiltonian, TransformationType, QubitMappingType\n\u001b[1;32m      6\u001b[0m \u001b[38;5;66;03m# Set the PySCF driver for the hydrogen molecule\u001b[39;00m\n\u001b[1;32m      7\u001b[0m molecule \u001b[38;5;241m=\u001b[39m \u001b[38;5;124m'\u001b[39m\u001b[38;5;124mH .0 .0 -0.3707; H .0 .0 0.3707\u001b[39m\u001b[38;5;124m'\u001b[39m\n",
      "\u001b[0;31mImportError\u001b[0m: cannot import name 'Hamiltonian' from 'qiskit_nature.second_q.drivers' (/home/rick/Documents/IITd/labs/qcqml/lib/python3.8/site-packages/qiskit_nature/second_q/drivers/__init__.py)"
     ]
    }
   ],
   "source": [
    "import numpy as np\n",
    "from qiskit import Aer, execute, QuantumCircuit \n",
    "from qiskit.opflow import Z2Symmetries \n",
    "from qiskit_nature.second_q.drivers import PySCFDriver\n",
    "from qiskit.chemistry.core import Hamiltonian, TransformationType, QubitMappingType\n",
    "\n",
    "# Set the PySCF driver for the hydrogen molecule\n",
    "molecule = 'H .0 .0 -0.3707; H .0 .0 0.3707'\n",
    "driver = PySCFDriver(atom=molecule)\n",
    "\n",
    "# Compute the electronic structure of the molecule\n",
    "qmolecule = driver.run()\n",
    "\n",
    "# Create a fermionic Hamiltonian from the qmolecule\n",
    "hamiltonian = Hamiltonian(transformation=TransformationType.FULL,\n",
    "                          qubit_mapping=QubitMappingType.PARITY,\n",
    "                          two_qubit_reduction=True,\n",
    "                          freeze_core=False,\n",
    "                          orbital_reduction=[],\n",
    "                          z2symmetry_reduction=None)\n",
    "fer_hamiltonian = hamiltonian.run(qmolecule)\n",
    "\n",
    "# Convert the fermionic Hamiltonian to a qubit Hamiltonian\n",
    "qubit_converter = QubitConverter(z2symmetry_reduction=Z2Symmetries.find(fer_hamiltonian))\n",
    "qubit_op = qubit_converter.convert(fer_hamiltonian)\n",
    "\n",
    "# Define the wavefunction for the ground state of the hydrogen molecule\n",
    "n_qubits = qubit_op.num_qubits\n",
    "wfn = np.zeros(2 ** n_qubits)\n",
    "wfn[0] = 1.0\n",
    "\n",
    "# Initialize the quantum circuit with the ground state wavefunction\n",
    "qc = QuantumCircuit(n_qubits)\n",
    "qc.initialize(wfn, [i for i in range(n_qubits)])\n",
    "\n",
    "# Execute the circuit on a statevector simulator\n",
    "backend = Aer.get_backend('statevector_simulator')\n",
    "job = execute(qc, backend)\n",
    "result = job.result()\n",
    "\n",
    "# Get the final statevector\n",
    "statevector = result.get_statevector()\n",
    "print(statevector)\n"
   ]
  },
  {
   "cell_type": "code",
   "execution_count": 16,
   "id": "033a6ffa",
   "metadata": {},
   "outputs": [
    {
     "name": "stdout",
     "output_type": "stream",
     "text": [
      "Fermionic Operator\n",
      "number spin orbitals=4, number terms=36\n",
      "  0.33785507740175813 * ( +_0 +_0 -_0 -_0 )\n",
      "+ 0.0904655998921157 * ( +_0 +_0 -_1 -_1 )\n",
      "+ 0.09046559989211564 * ( +_0 +_1 -_0 -_1 )\n",
      "+ 0.3322908651276484 * ( +_0 +_1 -_1 -_0 )\n",
      "+ 0.33785507740175813 * ( +_0 +_2 -_2 -_0 )\n",
      "+ 0.09046559989211564 * ( +_0 +_2 -_3 -_1 )\n",
      "+ 0.09046559989211564 * ( +_0 +_3 -_2 -_1 )\n",
      "+ 0.33229086512764827 * ( +_0 +_3 -_3 -_0 )\n",
      "...\n"
     ]
    }
   ],
   "source": [
    "from qiskit_nature.second_q.drivers import PySCFDriver\n",
    "from qiskit_nature.second_q.formats.molecule_info import MoleculeInfo\n",
    "from qiskit_nature.second_q.transformers import FreezeCoreTransformer\n",
    "\n",
    "molecule = MoleculeInfo([\"H\", \"H\"], [(0.0, 0.0, 0.0), (0.0, 0.0, 0.735)], charge=0, multiplicity=1)\n",
    "\n",
    "driver = PySCFDriver.from_molecule(molecule, basis=\"sto3g\")\n",
    "\n",
    "# this is now done explicitly\n",
    "problem = driver.run()\n",
    "\n",
    "transformer = FreezeCoreTransformer()\n",
    "\n",
    "# and you also apply transformers explicitly\n",
    "problem = transformer.transform(problem)\n",
    "\n",
    "hamiltonian = problem.hamiltonian.second_q_op()\n",
    "print(\"\\n\".join(str(hamiltonian).splitlines()[:10] + [\"...\"]))\n"
   ]
  },
  {
   "cell_type": "code",
   "execution_count": 17,
   "id": "b85a65c4",
   "metadata": {},
   "outputs": [
    {
     "name": "stdout",
     "output_type": "stream",
     "text": [
      "<class 'qiskit_nature.second_q.problems.electronic_structure_problem.ElectronicStructureProblem'>\n"
     ]
    }
   ],
   "source": [
    "from qiskit_nature.second_q.drivers import PySCFDriver\n",
    "from qiskit_nature.second_q.formats.molecule_info import MoleculeInfo\n",
    "\n",
    "molecule = MoleculeInfo([\"H\", \"H\"], [(0.0, 0.0, 0.0), (0.0, 0.0, 0.735)], charge=0, multiplicity=1)\n",
    "\n",
    "driver = PySCFDriver.from_molecule(molecule, basis=\"sto3g\")\n",
    "\n",
    "result = driver.run()\n",
    "print(type(result))"
   ]
  },
  {
   "cell_type": "code",
   "execution_count": 20,
   "id": "cd03f2c9",
   "metadata": {},
   "outputs": [
    {
     "name": "stdout",
     "output_type": "stream",
     "text": [
      "=== GROUND STATE ENERGY ===\n",
      " \n",
      "* Electronic ground state energy (Hartree): -1.857275030202\n",
      "  - computed part:      -1.857275030202\n",
      "~ Nuclear repulsion energy (Hartree): 0.719968994449\n",
      "> Total ground state energy (Hartree): -1.137306035753\n",
      " \n",
      "=== MEASURED OBSERVABLES ===\n",
      " \n",
      "  0:  # Particles: 2.000 S: 0.000 S^2: 0.000 M: 0.000\n",
      " \n",
      "=== DIPOLE MOMENTS ===\n",
      " \n",
      "~ Nuclear dipole moment (a.u.): [0.0  0.0  1.3889487]\n",
      " \n",
      "  0: \n",
      "  * Electronic dipole moment (a.u.): [0.0  0.0  1.38894872]\n",
      "    - computed part:      [0.0  0.0  1.38894872]\n",
      "  > Dipole moment (a.u.): [0.0  0.0  -0.00000002]  Total: 0.00000002\n",
      "                 (debye): [0.0  0.0  -0.00000005]  Total: 0.00000005\n",
      " \n"
     ]
    }
   ],
   "source": [
    "# https://github.com/Qiskit/qiskit-nature#creating-your-first-chemistry-programming-experiment-in-qiskit\n",
    "\n",
    "from qiskit_nature.units import DistanceUnit\n",
    "from qiskit_nature.second_q.drivers import PySCFDriver\n",
    "\n",
    "# Use PySCF, a classical computational chemistry software\n",
    "# package, to compute the one-body and two-body integrals in\n",
    "# electronic-orbital basis, necessary to form the Fermionic operator\n",
    "driver = PySCFDriver(\n",
    "    atom='H .0 .0 .0; H .0 .0 0.735',\n",
    "    unit=DistanceUnit.ANGSTROM,\n",
    "    basis='sto3g',\n",
    ")\n",
    "problem = driver.run()\n",
    "\n",
    "# setup the mapper and qubit converter\n",
    "from qiskit_nature.second_q.mappers import ParityMapper\n",
    "from qiskit_nature.second_q.mappers import QubitConverter\n",
    "\n",
    "mapper = ParityMapper()\n",
    "converter = QubitConverter(mapper=mapper, two_qubit_reduction=True)\n",
    "\n",
    "# setup the classical optimizer for the VQE\n",
    "from qiskit.algorithms.optimizers import L_BFGS_B\n",
    "\n",
    "optimizer = L_BFGS_B()\n",
    "\n",
    "# setup the estimator primitive for the VQE\n",
    "from qiskit.primitives import Estimator\n",
    "\n",
    "estimator = Estimator()\n",
    "\n",
    "# setup the ansatz for VQE\n",
    "from qiskit_nature.second_q.circuit.library import UCCSD\n",
    "\n",
    "ansatz = UCCSD()\n",
    "\n",
    "# use a factory to complement the VQE and its components at runtime\n",
    "from qiskit_nature.second_q.algorithms import VQEUCCFactory\n",
    "\n",
    "vqe_factory = VQEUCCFactory(estimator, ansatz, optimizer)\n",
    "\n",
    "# prepare the ground-state solver and run it\n",
    "from qiskit_nature.second_q.algorithms import GroundStateEigensolver\n",
    "\n",
    "algorithm = GroundStateEigensolver(converter, vqe_factory)\n",
    "\n",
    "electronic_structure_result = algorithm.solve(problem)\n",
    "print(electronic_structure_result)"
   ]
  }
 ],
 "metadata": {
  "kernelspec": {
   "display_name": "Python 3",
   "language": "python",
   "name": "python3"
  },
  "language_info": {
   "codemirror_mode": {
    "name": "ipython",
    "version": 3
   },
   "file_extension": ".py",
   "mimetype": "text/x-python",
   "name": "python",
   "nbconvert_exporter": "python",
   "pygments_lexer": "ipython3",
   "version": "3.8.16"
  }
 },
 "nbformat": 4,
 "nbformat_minor": 5
}
