{
 "cells": [
  {
   "cell_type": "markdown",
   "id": "cddd78a3",
   "metadata": {},
   "source": [
    "Conclusion:\n",
    "\n",
    "\n",
    "requires study of the field of quantum field theory and quantum chromodynamics (QCD)\n",
    "\n",
    "\n",
    "    H = -(1/2) * ∇^2 - 1/r\n",
    "    "
   ]
  },
  {
   "cell_type": "code",
   "execution_count": 2,
   "id": "1485cde8",
   "metadata": {},
   "outputs": [
    {
     "name": "stdout",
     "output_type": "stream",
     "text": [
      "Collecting pyscf\n",
      "  Downloading pyscf-2.1.1-cp38-cp38-manylinux_2_12_x86_64.manylinux2010_x86_64.whl (38.2 MB)\n",
      "\u001b[2K     \u001b[38;2;114;156;31m━━━━━━━━━━━━━━━━━━━━━━━━━━━━━━━━━━━━━━━━\u001b[0m \u001b[32m38.2/38.2 MB\u001b[0m \u001b[31m4.2 MB/s\u001b[0m eta \u001b[36m0:00:00\u001b[0mm eta \u001b[36m0:00:01\u001b[0m[36m0:00:01\u001b[0m\n",
      "\u001b[?25hRequirement already satisfied: numpy!=1.16,!=1.17,>=1.13 in /home/rick/Documents/IITd/labs/qcqml/lib/python3.8/site-packages (from pyscf) (1.24.1)\n",
      "Requirement already satisfied: scipy!=1.5.0,!=1.5.1 in /home/rick/Documents/IITd/labs/qcqml/lib/python3.8/site-packages (from pyscf) (1.8.1)\n",
      "Requirement already satisfied: h5py>=2.7 in /home/rick/Documents/IITd/labs/qcqml/lib/python3.8/site-packages (from pyscf) (3.2.1)\n",
      "Installing collected packages: pyscf\n",
      "Successfully installed pyscf-2.1.1\n",
      "\u001b[33mWARNING: You are using pip version 22.0.4; however, version 22.3.1 is available.\n",
      "You should consider upgrading via the '/home/rick/Documents/IITd/labs/qcqml/bin/python3.8 -m pip install --upgrade pip' command.\u001b[0m\u001b[33m\n",
      "\u001b[0m"
     ]
    }
   ],
   "source": [
    "! pip install pyscf"
   ]
  },
  {
   "cell_type": "markdown",
   "id": "047b69ee",
   "metadata": {},
   "source": [
    "# Hydrogen Molecule"
   ]
  },
  {
   "cell_type": "code",
   "execution_count": 3,
   "id": "a5092ce3",
   "metadata": {},
   "outputs": [
    {
     "name": "stdout",
     "output_type": "stream",
     "text": [
      "converged SCF energy = -1.116998996754\n"
     ]
    }
   ],
   "source": [
    "from pyscf import gto, scf\n",
    "\n",
    "# Define the molecular geometry\n",
    "mol = gto.M(atom='H 0 0 0; H 0 0 0.735', basis='sto-3g')\n",
    "\n",
    "# Perform Hartree-Fock calculation\n",
    "mf = scf.RHF(mol)\n",
    "mf.scf()\n",
    "\n",
    "# Get the ground state wave function\n",
    "wfn = mf.make_rdm1()"
   ]
  },
  {
   "cell_type": "code",
   "execution_count": 4,
   "id": "acca208a",
   "metadata": {},
   "outputs": [
    {
     "ename": "QiskitError",
     "evalue": "'Sum of amplitudes-squared does not equal one.'",
     "output_type": "error",
     "traceback": [
      "\u001b[0;31m---------------------------------------------------------------------------\u001b[0m",
      "\u001b[0;31mQiskitError\u001b[0m                               Traceback (most recent call last)",
      "Input \u001b[0;32mIn [4]\u001b[0m, in \u001b[0;36m<cell line: 8>\u001b[0;34m()\u001b[0m\n\u001b[1;32m      5\u001b[0m qc \u001b[38;5;241m=\u001b[39m QuantumCircuit(\u001b[38;5;241m2\u001b[39m)\n\u001b[1;32m      7\u001b[0m \u001b[38;5;66;03m# Prepare the initial state of the circuit\u001b[39;00m\n\u001b[0;32m----> 8\u001b[0m \u001b[43mqc\u001b[49m\u001b[38;5;241;43m.\u001b[39;49m\u001b[43minitialize\u001b[49m\u001b[43m(\u001b[49m\u001b[43mwfn\u001b[49m\u001b[38;5;241;43m.\u001b[39;49m\u001b[43mflatten\u001b[49m\u001b[43m(\u001b[49m\u001b[43m)\u001b[49m\u001b[43m,\u001b[49m\u001b[43m \u001b[49m\u001b[43m[\u001b[49m\u001b[38;5;241;43m0\u001b[39;49m\u001b[43m,\u001b[49m\u001b[43m \u001b[49m\u001b[38;5;241;43m1\u001b[39;49m\u001b[43m]\u001b[49m\u001b[43m)\u001b[49m\n\u001b[1;32m     10\u001b[0m \u001b[38;5;66;03m# Execute the circuit on a statevector simulator\u001b[39;00m\n\u001b[1;32m     11\u001b[0m backend \u001b[38;5;241m=\u001b[39m Aer\u001b[38;5;241m.\u001b[39mget_backend(\u001b[38;5;124m'\u001b[39m\u001b[38;5;124mstatevector_simulator\u001b[39m\u001b[38;5;124m'\u001b[39m)\n",
      "File \u001b[0;32m~/Documents/IITd/labs/qcqml/lib/python3.8/site-packages/qiskit/extensions/quantum_initializer/initializer.py:191\u001b[0m, in \u001b[0;36minitialize\u001b[0;34m(self, params, qubits)\u001b[0m\n\u001b[1;32m    188\u001b[0m     qubits \u001b[38;5;241m=\u001b[39m [qubits]\n\u001b[1;32m    189\u001b[0m num_qubits \u001b[38;5;241m=\u001b[39m \u001b[38;5;28mlen\u001b[39m(qubits) \u001b[38;5;28;01mif\u001b[39;00m \u001b[38;5;28misinstance\u001b[39m(params, \u001b[38;5;28mint\u001b[39m) \u001b[38;5;28;01melse\u001b[39;00m \u001b[38;5;28;01mNone\u001b[39;00m\n\u001b[0;32m--> 191\u001b[0m \u001b[38;5;28;01mreturn\u001b[39;00m \u001b[38;5;28mself\u001b[39m\u001b[38;5;241m.\u001b[39mappend(\u001b[43mInitialize\u001b[49m\u001b[43m(\u001b[49m\u001b[43mparams\u001b[49m\u001b[43m,\u001b[49m\u001b[43m \u001b[49m\u001b[43mnum_qubits\u001b[49m\u001b[43m)\u001b[49m, qubits)\n",
      "File \u001b[0;32m~/Documents/IITd/labs/qcqml/lib/python3.8/site-packages/qiskit/extensions/quantum_initializer/initializer.py:57\u001b[0m, in \u001b[0;36mInitialize.__init__\u001b[0;34m(self, params, num_qubits)\u001b[0m\n\u001b[1;32m     36\u001b[0m \u001b[38;5;28;01mdef\u001b[39;00m \u001b[38;5;21m__init__\u001b[39m(\u001b[38;5;28mself\u001b[39m, params, num_qubits\u001b[38;5;241m=\u001b[39m\u001b[38;5;28;01mNone\u001b[39;00m):\n\u001b[1;32m     37\u001b[0m     \u001b[38;5;124mr\u001b[39m\u001b[38;5;124;03m\"\"\"Create new initialize composite.\u001b[39;00m\n\u001b[1;32m     38\u001b[0m \n\u001b[1;32m     39\u001b[0m \u001b[38;5;124;03m    Args:\u001b[39;00m\n\u001b[0;32m   (...)\u001b[0m\n\u001b[1;32m     55\u001b[0m \u001b[38;5;124;03m            and the remaining 3 qubits to be initialized to :math:`|0\\rangle`.\u001b[39;00m\n\u001b[1;32m     56\u001b[0m \u001b[38;5;124;03m    \"\"\"\u001b[39;00m\n\u001b[0;32m---> 57\u001b[0m     \u001b[38;5;28mself\u001b[39m\u001b[38;5;241m.\u001b[39m_stateprep \u001b[38;5;241m=\u001b[39m \u001b[43mStatePreparation\u001b[49m\u001b[43m(\u001b[49m\u001b[43mparams\u001b[49m\u001b[43m,\u001b[49m\u001b[43m \u001b[49m\u001b[43mnum_qubits\u001b[49m\u001b[43m)\u001b[49m\n\u001b[1;32m     59\u001b[0m     \u001b[38;5;28msuper\u001b[39m()\u001b[38;5;241m.\u001b[39m\u001b[38;5;21m__init__\u001b[39m(\u001b[38;5;124m\"\u001b[39m\u001b[38;5;124minitialize\u001b[39m\u001b[38;5;124m\"\u001b[39m, \u001b[38;5;28mself\u001b[39m\u001b[38;5;241m.\u001b[39m_stateprep\u001b[38;5;241m.\u001b[39mnum_qubits, \u001b[38;5;241m0\u001b[39m, \u001b[38;5;28mself\u001b[39m\u001b[38;5;241m.\u001b[39m_stateprep\u001b[38;5;241m.\u001b[39mparams)\n",
      "File \u001b[0;32m~/Documents/IITd/labs/qcqml/lib/python3.8/site-packages/qiskit/circuit/library/data_preparation/state_preparation.py:99\u001b[0m, in \u001b[0;36mStatePreparation.__init__\u001b[0;34m(self, params, num_qubits, inverse, label)\u001b[0m\n\u001b[1;32m     96\u001b[0m \u001b[38;5;28mself\u001b[39m\u001b[38;5;241m.\u001b[39m_from_label \u001b[38;5;241m=\u001b[39m \u001b[38;5;28misinstance\u001b[39m(params, \u001b[38;5;28mstr\u001b[39m)\n\u001b[1;32m     97\u001b[0m \u001b[38;5;28mself\u001b[39m\u001b[38;5;241m.\u001b[39m_from_int \u001b[38;5;241m=\u001b[39m \u001b[38;5;28misinstance\u001b[39m(params, \u001b[38;5;28mint\u001b[39m)\n\u001b[0;32m---> 99\u001b[0m num_qubits \u001b[38;5;241m=\u001b[39m \u001b[38;5;28;43mself\u001b[39;49m\u001b[38;5;241;43m.\u001b[39;49m\u001b[43m_get_num_qubits\u001b[49m\u001b[43m(\u001b[49m\u001b[43mnum_qubits\u001b[49m\u001b[43m,\u001b[49m\u001b[43m \u001b[49m\u001b[43mparams\u001b[49m\u001b[43m)\u001b[49m\n\u001b[1;32m    101\u001b[0m params \u001b[38;5;241m=\u001b[39m [params] \u001b[38;5;28;01mif\u001b[39;00m \u001b[38;5;28misinstance\u001b[39m(params, \u001b[38;5;28mint\u001b[39m) \u001b[38;5;28;01melse\u001b[39;00m params\n\u001b[1;32m    103\u001b[0m \u001b[38;5;28msuper\u001b[39m()\u001b[38;5;241m.\u001b[39m\u001b[38;5;21m__init__\u001b[39m(\u001b[38;5;28mself\u001b[39m\u001b[38;5;241m.\u001b[39m_name, num_qubits, params, label\u001b[38;5;241m=\u001b[39m\u001b[38;5;28mself\u001b[39m\u001b[38;5;241m.\u001b[39m_label)\n",
      "File \u001b[0;32m~/Documents/IITd/labs/qcqml/lib/python3.8/site-packages/qiskit/circuit/library/data_preparation/state_preparation.py:202\u001b[0m, in \u001b[0;36mStatePreparation._get_num_qubits\u001b[0;34m(self, num_qubits, params)\u001b[0m\n\u001b[1;32m    200\u001b[0m     \u001b[38;5;66;03m# Check if probabilities (amplitudes squared) sum to 1\u001b[39;00m\n\u001b[1;32m    201\u001b[0m     \u001b[38;5;28;01mif\u001b[39;00m \u001b[38;5;129;01mnot\u001b[39;00m math\u001b[38;5;241m.\u001b[39misclose(\u001b[38;5;28msum\u001b[39m(np\u001b[38;5;241m.\u001b[39mabsolute(params) \u001b[38;5;241m*\u001b[39m\u001b[38;5;241m*\u001b[39m \u001b[38;5;241m2\u001b[39m), \u001b[38;5;241m1.0\u001b[39m, abs_tol\u001b[38;5;241m=\u001b[39m_EPS):\n\u001b[0;32m--> 202\u001b[0m         \u001b[38;5;28;01mraise\u001b[39;00m QiskitError(\u001b[38;5;124m\"\u001b[39m\u001b[38;5;124mSum of amplitudes-squared does not equal one.\u001b[39m\u001b[38;5;124m\"\u001b[39m)\n\u001b[1;32m    204\u001b[0m     num_qubits \u001b[38;5;241m=\u001b[39m \u001b[38;5;28mint\u001b[39m(num_qubits)\n\u001b[1;32m    205\u001b[0m \u001b[38;5;28;01mreturn\u001b[39;00m num_qubits\n",
      "\u001b[0;31mQiskitError\u001b[0m: 'Sum of amplitudes-squared does not equal one.'"
     ]
    }
   ],
   "source": [
    "from qiskit import QuantumCircuit, execute, Aer\n",
    "import numpy as np\n",
    "\n",
    "# Create a quantum circuit with two qubits\n",
    "qc = QuantumCircuit(2)\n",
    "\n",
    "# Prepare the initial state of the circuit\n",
    "qc.initialize(wfn.flatten(), [0, 1])\n",
    "\n",
    "# Execute the circuit on a statevector simulator\n",
    "backend = Aer.get_backend('statevector_simulator')\n",
    "job = execute(qc, backend)\n",
    "result = job.result()\n",
    "\n",
    "# Get the final statevector\n",
    "statevector = result.get_statevector()\n",
    "print(statevector)"
   ]
  },
  {
   "cell_type": "markdown",
   "id": "04a005ff",
   "metadata": {},
   "source": [
    "# Hydrogen Ion"
   ]
  },
  {
   "cell_type": "code",
   "execution_count": 6,
   "id": "05ebc56b",
   "metadata": {},
   "outputs": [
    {
     "ename": "RuntimeError",
     "evalue": "Electron number 1 and spin 0 are not consistent\nNote mol.spin = 2S = Nalpha - Nbeta, not 2S+1",
     "output_type": "error",
     "traceback": [
      "\u001b[0;31m---------------------------------------------------------------------------\u001b[0m",
      "\u001b[0;31mRuntimeError\u001b[0m                              Traceback (most recent call last)",
      "Input \u001b[0;32mIn [6]\u001b[0m, in \u001b[0;36m<cell line: 4>\u001b[0;34m()\u001b[0m\n\u001b[1;32m      1\u001b[0m \u001b[38;5;28;01mfrom\u001b[39;00m \u001b[38;5;21;01mpyscf\u001b[39;00m \u001b[38;5;28;01mimport\u001b[39;00m gto, scf\n\u001b[1;32m      3\u001b[0m \u001b[38;5;66;03m# Define the molecular geometry\u001b[39;00m\n\u001b[0;32m----> 4\u001b[0m mol \u001b[38;5;241m=\u001b[39m \u001b[43mgto\u001b[49m\u001b[38;5;241;43m.\u001b[39;49m\u001b[43mM\u001b[49m\u001b[43m(\u001b[49m\u001b[43matom\u001b[49m\u001b[38;5;241;43m=\u001b[39;49m\u001b[38;5;124;43m'\u001b[39;49m\u001b[38;5;124;43mH 0 0 0\u001b[39;49m\u001b[38;5;124;43m'\u001b[39;49m\u001b[43m,\u001b[49m\u001b[43m \u001b[49m\u001b[43mbasis\u001b[49m\u001b[38;5;241;43m=\u001b[39;49m\u001b[38;5;124;43m'\u001b[39;49m\u001b[38;5;124;43msto-3g\u001b[39;49m\u001b[38;5;124;43m'\u001b[39;49m\u001b[43m)\u001b[49m\n\u001b[1;32m      6\u001b[0m \u001b[38;5;66;03m# Perform Hartree-Fock calculation\u001b[39;00m\n\u001b[1;32m      7\u001b[0m mf \u001b[38;5;241m=\u001b[39m scf\u001b[38;5;241m.\u001b[39mRHF(mol)\n",
      "File \u001b[0;32m~/Documents/IITd/labs/qcqml/lib/python3.8/site-packages/pyscf/gto/mole.py:118\u001b[0m, in \u001b[0;36mM\u001b[0;34m(**kwargs)\u001b[0m\n\u001b[1;32m    108\u001b[0m \u001b[38;5;124mr\u001b[39m\u001b[38;5;124;03m'''This is a shortcut to build up Mole object.\u001b[39;00m\n\u001b[1;32m    109\u001b[0m \n\u001b[1;32m    110\u001b[0m \u001b[38;5;124;03mArgs: Same to :func:`Mole.build`\u001b[39;00m\n\u001b[0;32m   (...)\u001b[0m\n\u001b[1;32m    115\u001b[0m \u001b[38;5;124;03m>>> mol = gto.M(atom='H 0 0 0; F 0 0 1', basis='6-31g')\u001b[39;00m\n\u001b[1;32m    116\u001b[0m \u001b[38;5;124;03m'''\u001b[39;00m\n\u001b[1;32m    117\u001b[0m mol \u001b[38;5;241m=\u001b[39m Mole()\n\u001b[0;32m--> 118\u001b[0m \u001b[43mmol\u001b[49m\u001b[38;5;241;43m.\u001b[39;49m\u001b[43mbuild\u001b[49m\u001b[43m(\u001b[49m\u001b[38;5;241;43m*\u001b[39;49m\u001b[38;5;241;43m*\u001b[39;49m\u001b[43mkwargs\u001b[49m\u001b[43m)\u001b[49m\n\u001b[1;32m    119\u001b[0m \u001b[38;5;28;01mreturn\u001b[39;00m mol\n",
      "File \u001b[0;32m~/Documents/IITd/labs/qcqml/lib/python3.8/site-packages/pyscf/gto/mole.py:2535\u001b[0m, in \u001b[0;36mMole.build\u001b[0;34m(self, dump_input, parse_arg, verbose, output, max_memory, atom, basis, unit, nucmod, ecp, charge, spin, symmetry, symmetry_subgroup, cart, magmom)\u001b[0m\n\u001b[1;32m   2531\u001b[0m     \u001b[38;5;28mself\u001b[39m\u001b[38;5;241m.\u001b[39mspin \u001b[38;5;241m=\u001b[39m \u001b[38;5;28mself\u001b[39m\u001b[38;5;241m.\u001b[39mnelectron \u001b[38;5;241m%\u001b[39m \u001b[38;5;241m2\u001b[39m\n\u001b[1;32m   2532\u001b[0m \u001b[38;5;28;01melse\u001b[39;00m:\n\u001b[1;32m   2533\u001b[0m     \u001b[38;5;66;03m# Access self.nelec in which the code checks whether the spin and\u001b[39;00m\n\u001b[1;32m   2534\u001b[0m     \u001b[38;5;66;03m# number of electrons are consistent.\u001b[39;00m\n\u001b[0;32m-> 2535\u001b[0m     \u001b[38;5;28;43mself\u001b[39;49m\u001b[38;5;241;43m.\u001b[39;49m\u001b[43mnelec\u001b[49m\n\u001b[1;32m   2537\u001b[0m \u001b[38;5;28;01mif\u001b[39;00m \u001b[38;5;129;01mnot\u001b[39;00m \u001b[38;5;28mself\u001b[39m\u001b[38;5;241m.\u001b[39mmagmom:\n\u001b[1;32m   2538\u001b[0m     \u001b[38;5;28mself\u001b[39m\u001b[38;5;241m.\u001b[39mmagmom \u001b[38;5;241m=\u001b[39m [\u001b[38;5;241m0.\u001b[39m,]\u001b[38;5;241m*\u001b[39m\u001b[38;5;28mself\u001b[39m\u001b[38;5;241m.\u001b[39mnatm\n",
      "File \u001b[0;32m~/Documents/IITd/labs/qcqml/lib/python3.8/site-packages/pyscf/gto/mole.py:2287\u001b[0m, in \u001b[0;36mMole.nelec\u001b[0;34m(self)\u001b[0m\n\u001b[1;32m   2285\u001b[0m \u001b[38;5;28;01massert\u001b[39;00m (nalpha \u001b[38;5;241m>\u001b[39m\u001b[38;5;241m=\u001b[39m \u001b[38;5;241m0\u001b[39m \u001b[38;5;129;01mand\u001b[39;00m nbeta \u001b[38;5;241m>\u001b[39m\u001b[38;5;241m=\u001b[39m \u001b[38;5;241m0\u001b[39m)\n\u001b[1;32m   2286\u001b[0m \u001b[38;5;28;01mif\u001b[39;00m nalpha \u001b[38;5;241m+\u001b[39m nbeta \u001b[38;5;241m!=\u001b[39m ne:\n\u001b[0;32m-> 2287\u001b[0m     \u001b[38;5;28;01mraise\u001b[39;00m \u001b[38;5;167;01mRuntimeError\u001b[39;00m(\u001b[38;5;124m'\u001b[39m\u001b[38;5;124mElectron number \u001b[39m\u001b[38;5;132;01m%d\u001b[39;00m\u001b[38;5;124m and spin \u001b[39m\u001b[38;5;132;01m%d\u001b[39;00m\u001b[38;5;124m are not consistent\u001b[39m\u001b[38;5;130;01m\\n\u001b[39;00m\u001b[38;5;124m'\u001b[39m\n\u001b[1;32m   2288\u001b[0m                        \u001b[38;5;124m'\u001b[39m\u001b[38;5;124mNote mol.spin = 2S = Nalpha - Nbeta, not 2S+1\u001b[39m\u001b[38;5;124m'\u001b[39m \u001b[38;5;241m%\u001b[39m\n\u001b[1;32m   2289\u001b[0m                        (ne, \u001b[38;5;28mself\u001b[39m\u001b[38;5;241m.\u001b[39mspin))\n\u001b[1;32m   2290\u001b[0m \u001b[38;5;28;01mreturn\u001b[39;00m nalpha, nbeta\n",
      "\u001b[0;31mRuntimeError\u001b[0m: Electron number 1 and spin 0 are not consistent\nNote mol.spin = 2S = Nalpha - Nbeta, not 2S+1"
     ]
    }
   ],
   "source": [
    "from pyscf import gto, scf\n",
    "\n",
    "# Define the molecular geometry\n",
    "mol = gto.M(atom='H 0 0 0', basis='sto-3g')\n",
    "\n",
    "# Perform Hartree-Fock calculation\n",
    "mf = scf.RHF(mol)\n",
    "mf.scf()\n",
    "\n",
    "# Get the ground state wave function\n",
    "wfn = mf.make_rdm1()"
   ]
  },
  {
   "cell_type": "code",
   "execution_count": 7,
   "id": "5ca2d297",
   "metadata": {},
   "outputs": [
    {
     "ename": "QiskitError",
     "evalue": "'Sum of amplitudes-squared does not equal one.'",
     "output_type": "error",
     "traceback": [
      "\u001b[0;31m---------------------------------------------------------------------------\u001b[0m",
      "\u001b[0;31mQiskitError\u001b[0m                               Traceback (most recent call last)",
      "Input \u001b[0;32mIn [7]\u001b[0m, in \u001b[0;36m<cell line: 8>\u001b[0;34m()\u001b[0m\n\u001b[1;32m      5\u001b[0m qc \u001b[38;5;241m=\u001b[39m QuantumCircuit(\u001b[38;5;241m1\u001b[39m)\n\u001b[1;32m      7\u001b[0m \u001b[38;5;66;03m# Prepare the initial state of the circuit\u001b[39;00m\n\u001b[0;32m----> 8\u001b[0m \u001b[43mqc\u001b[49m\u001b[38;5;241;43m.\u001b[39;49m\u001b[43minitialize\u001b[49m\u001b[43m(\u001b[49m\u001b[43mwfn\u001b[49m\u001b[38;5;241;43m.\u001b[39;49m\u001b[43mflatten\u001b[49m\u001b[43m(\u001b[49m\u001b[43m)\u001b[49m\u001b[43m,\u001b[49m\u001b[43m \u001b[49m\u001b[43m[\u001b[49m\u001b[38;5;241;43m0\u001b[39;49m\u001b[43m]\u001b[49m\u001b[43m)\u001b[49m\n\u001b[1;32m     10\u001b[0m \u001b[38;5;66;03m# Execute the circuit on a statevector simulator\u001b[39;00m\n\u001b[1;32m     11\u001b[0m backend \u001b[38;5;241m=\u001b[39m Aer\u001b[38;5;241m.\u001b[39mget_backend(\u001b[38;5;124m'\u001b[39m\u001b[38;5;124mstatevector_simulator\u001b[39m\u001b[38;5;124m'\u001b[39m)\n",
      "File \u001b[0;32m~/Documents/IITd/labs/qcqml/lib/python3.8/site-packages/qiskit/extensions/quantum_initializer/initializer.py:191\u001b[0m, in \u001b[0;36minitialize\u001b[0;34m(self, params, qubits)\u001b[0m\n\u001b[1;32m    188\u001b[0m     qubits \u001b[38;5;241m=\u001b[39m [qubits]\n\u001b[1;32m    189\u001b[0m num_qubits \u001b[38;5;241m=\u001b[39m \u001b[38;5;28mlen\u001b[39m(qubits) \u001b[38;5;28;01mif\u001b[39;00m \u001b[38;5;28misinstance\u001b[39m(params, \u001b[38;5;28mint\u001b[39m) \u001b[38;5;28;01melse\u001b[39;00m \u001b[38;5;28;01mNone\u001b[39;00m\n\u001b[0;32m--> 191\u001b[0m \u001b[38;5;28;01mreturn\u001b[39;00m \u001b[38;5;28mself\u001b[39m\u001b[38;5;241m.\u001b[39mappend(\u001b[43mInitialize\u001b[49m\u001b[43m(\u001b[49m\u001b[43mparams\u001b[49m\u001b[43m,\u001b[49m\u001b[43m \u001b[49m\u001b[43mnum_qubits\u001b[49m\u001b[43m)\u001b[49m, qubits)\n",
      "File \u001b[0;32m~/Documents/IITd/labs/qcqml/lib/python3.8/site-packages/qiskit/extensions/quantum_initializer/initializer.py:57\u001b[0m, in \u001b[0;36mInitialize.__init__\u001b[0;34m(self, params, num_qubits)\u001b[0m\n\u001b[1;32m     36\u001b[0m \u001b[38;5;28;01mdef\u001b[39;00m \u001b[38;5;21m__init__\u001b[39m(\u001b[38;5;28mself\u001b[39m, params, num_qubits\u001b[38;5;241m=\u001b[39m\u001b[38;5;28;01mNone\u001b[39;00m):\n\u001b[1;32m     37\u001b[0m     \u001b[38;5;124mr\u001b[39m\u001b[38;5;124;03m\"\"\"Create new initialize composite.\u001b[39;00m\n\u001b[1;32m     38\u001b[0m \n\u001b[1;32m     39\u001b[0m \u001b[38;5;124;03m    Args:\u001b[39;00m\n\u001b[0;32m   (...)\u001b[0m\n\u001b[1;32m     55\u001b[0m \u001b[38;5;124;03m            and the remaining 3 qubits to be initialized to :math:`|0\\rangle`.\u001b[39;00m\n\u001b[1;32m     56\u001b[0m \u001b[38;5;124;03m    \"\"\"\u001b[39;00m\n\u001b[0;32m---> 57\u001b[0m     \u001b[38;5;28mself\u001b[39m\u001b[38;5;241m.\u001b[39m_stateprep \u001b[38;5;241m=\u001b[39m \u001b[43mStatePreparation\u001b[49m\u001b[43m(\u001b[49m\u001b[43mparams\u001b[49m\u001b[43m,\u001b[49m\u001b[43m \u001b[49m\u001b[43mnum_qubits\u001b[49m\u001b[43m)\u001b[49m\n\u001b[1;32m     59\u001b[0m     \u001b[38;5;28msuper\u001b[39m()\u001b[38;5;241m.\u001b[39m\u001b[38;5;21m__init__\u001b[39m(\u001b[38;5;124m\"\u001b[39m\u001b[38;5;124minitialize\u001b[39m\u001b[38;5;124m\"\u001b[39m, \u001b[38;5;28mself\u001b[39m\u001b[38;5;241m.\u001b[39m_stateprep\u001b[38;5;241m.\u001b[39mnum_qubits, \u001b[38;5;241m0\u001b[39m, \u001b[38;5;28mself\u001b[39m\u001b[38;5;241m.\u001b[39m_stateprep\u001b[38;5;241m.\u001b[39mparams)\n",
      "File \u001b[0;32m~/Documents/IITd/labs/qcqml/lib/python3.8/site-packages/qiskit/circuit/library/data_preparation/state_preparation.py:99\u001b[0m, in \u001b[0;36mStatePreparation.__init__\u001b[0;34m(self, params, num_qubits, inverse, label)\u001b[0m\n\u001b[1;32m     96\u001b[0m \u001b[38;5;28mself\u001b[39m\u001b[38;5;241m.\u001b[39m_from_label \u001b[38;5;241m=\u001b[39m \u001b[38;5;28misinstance\u001b[39m(params, \u001b[38;5;28mstr\u001b[39m)\n\u001b[1;32m     97\u001b[0m \u001b[38;5;28mself\u001b[39m\u001b[38;5;241m.\u001b[39m_from_int \u001b[38;5;241m=\u001b[39m \u001b[38;5;28misinstance\u001b[39m(params, \u001b[38;5;28mint\u001b[39m)\n\u001b[0;32m---> 99\u001b[0m num_qubits \u001b[38;5;241m=\u001b[39m \u001b[38;5;28;43mself\u001b[39;49m\u001b[38;5;241;43m.\u001b[39;49m\u001b[43m_get_num_qubits\u001b[49m\u001b[43m(\u001b[49m\u001b[43mnum_qubits\u001b[49m\u001b[43m,\u001b[49m\u001b[43m \u001b[49m\u001b[43mparams\u001b[49m\u001b[43m)\u001b[49m\n\u001b[1;32m    101\u001b[0m params \u001b[38;5;241m=\u001b[39m [params] \u001b[38;5;28;01mif\u001b[39;00m \u001b[38;5;28misinstance\u001b[39m(params, \u001b[38;5;28mint\u001b[39m) \u001b[38;5;28;01melse\u001b[39;00m params\n\u001b[1;32m    103\u001b[0m \u001b[38;5;28msuper\u001b[39m()\u001b[38;5;241m.\u001b[39m\u001b[38;5;21m__init__\u001b[39m(\u001b[38;5;28mself\u001b[39m\u001b[38;5;241m.\u001b[39m_name, num_qubits, params, label\u001b[38;5;241m=\u001b[39m\u001b[38;5;28mself\u001b[39m\u001b[38;5;241m.\u001b[39m_label)\n",
      "File \u001b[0;32m~/Documents/IITd/labs/qcqml/lib/python3.8/site-packages/qiskit/circuit/library/data_preparation/state_preparation.py:202\u001b[0m, in \u001b[0;36mStatePreparation._get_num_qubits\u001b[0;34m(self, num_qubits, params)\u001b[0m\n\u001b[1;32m    200\u001b[0m     \u001b[38;5;66;03m# Check if probabilities (amplitudes squared) sum to 1\u001b[39;00m\n\u001b[1;32m    201\u001b[0m     \u001b[38;5;28;01mif\u001b[39;00m \u001b[38;5;129;01mnot\u001b[39;00m math\u001b[38;5;241m.\u001b[39misclose(\u001b[38;5;28msum\u001b[39m(np\u001b[38;5;241m.\u001b[39mabsolute(params) \u001b[38;5;241m*\u001b[39m\u001b[38;5;241m*\u001b[39m \u001b[38;5;241m2\u001b[39m), \u001b[38;5;241m1.0\u001b[39m, abs_tol\u001b[38;5;241m=\u001b[39m_EPS):\n\u001b[0;32m--> 202\u001b[0m         \u001b[38;5;28;01mraise\u001b[39;00m QiskitError(\u001b[38;5;124m\"\u001b[39m\u001b[38;5;124mSum of amplitudes-squared does not equal one.\u001b[39m\u001b[38;5;124m\"\u001b[39m)\n\u001b[1;32m    204\u001b[0m     num_qubits \u001b[38;5;241m=\u001b[39m \u001b[38;5;28mint\u001b[39m(num_qubits)\n\u001b[1;32m    205\u001b[0m \u001b[38;5;28;01mreturn\u001b[39;00m num_qubits\n",
      "\u001b[0;31mQiskitError\u001b[0m: 'Sum of amplitudes-squared does not equal one.'"
     ]
    }
   ],
   "source": [
    "from qiskit import QuantumCircuit, execute, Aer\n",
    "import numpy as np\n",
    "\n",
    "# Create a quantum circuit with one qubit\n",
    "qc = QuantumCircuit(1)\n",
    "\n",
    "# Prepare the initial state of the circuit\n",
    "qc.initialize(wfn.flatten(), [0])\n",
    "\n",
    "# Execute the circuit on a statevector simulator\n",
    "backend = Aer.get_backend('statevector_simulator')\n",
    "job = execute(qc, backend)\n",
    "result = job.result()\n",
    "\n",
    "# Get the final statevector\n",
    "statevector = result.get_statevector()\n",
    "print(statevector)"
   ]
  }
 ],
 "metadata": {
  "kernelspec": {
   "display_name": "Python 3",
   "language": "python",
   "name": "python3"
  },
  "language_info": {
   "codemirror_mode": {
    "name": "ipython",
    "version": 3
   },
   "file_extension": ".py",
   "mimetype": "text/x-python",
   "name": "python",
   "nbconvert_exporter": "python",
   "pygments_lexer": "ipython3",
   "version": "3.8.16"
  }
 },
 "nbformat": 4,
 "nbformat_minor": 5
}
